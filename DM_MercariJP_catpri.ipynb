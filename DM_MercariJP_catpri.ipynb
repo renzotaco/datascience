{
  "nbformat": 4,
  "nbformat_minor": 0,
  "metadata": {
    "colab": {
      "name": "DM_MercariJP.ipynb",
      "provenance": [],
      "collapsed_sections": [],
      "authorship_tag": "ABX9TyMAcHoyT+Czz2F6uFKcBf4G",
      "include_colab_link": true
    },
    "kernelspec": {
      "name": "python3",
      "display_name": "Python 3"
    },
    "language_info": {
      "name": "python"
    }
  },
  "cells": [
    {
      "cell_type": "markdown",
      "metadata": {
        "id": "view-in-github",
        "colab_type": "text"
      },
      "source": [
        "<a href=\"https://colab.research.google.com/github/renzotaco/datascience/blob/main/DM_MercariJP_catpri.ipynb\" target=\"_parent\"><img src=\"https://colab.research.google.com/assets/colab-badge.svg\" alt=\"Open In Colab\"/></a>"
      ]
    },
    {
      "cell_type": "code",
      "metadata": {
        "id": "8Wos_feMn0cE"
      },
      "source": [
        "!pip install -U -q PyDrive "
      ],
      "execution_count": 1,
      "outputs": []
    },
    {
      "cell_type": "code",
      "metadata": {
        "id": "5Wgueu_ir97S"
      },
      "source": [
        "from pydrive.auth import GoogleAuth\n",
        "from pydrive.drive import GoogleDrive\n",
        "from google.colab import auth\n",
        "from oauth2client.client import GoogleCredentials\n",
        "\n",
        "auth.authenticate_user()\n",
        "gauth = GoogleAuth()\n",
        "gauth.credentials = GoogleCredentials.get_application_default()\n",
        "drive = GoogleDrive(gauth)"
      ],
      "execution_count": 2,
      "outputs": []
    },
    {
      "cell_type": "code",
      "metadata": {
        "id": "a8hVZHU5tHtc"
      },
      "source": [
        "train=drive.CreateFile({'id':'1mN96UKMA2lcYq7vd5_MAPG9ybttjzIIM'})\n",
        "train.GetContentFile('train.tsv')"
      ],
      "execution_count": 3,
      "outputs": []
    },
    {
      "cell_type": "code",
      "metadata": {
        "id": "odQa3IS0tcTE"
      },
      "source": [
        "import numpy as np\n",
        "import pandas as pd\n",
        "import matplotlib.pyplot as plt\n",
        "import seaborn as sns\n",
        "from sklearn.model_selection import train_test_split\n",
        "import warnings\n",
        "warnings.filterwarnings('ignore')"
      ],
      "execution_count": 4,
      "outputs": []
    },
    {
      "cell_type": "code",
      "metadata": {
        "colab": {
          "base_uri": "https://localhost:8080/"
        },
        "id": "XF7cgxeTtudQ",
        "outputId": "e4d1caa9-c83c-4a2e-9838-9dfa53f8d374"
      },
      "source": [
        "data = pd.read_csv('train.tsv', sep='\\t')\n",
        "train, test = train_test_split(data, test_size=0.2, shuffle=False)\n",
        "print(train.shape, test.shape)"
      ],
      "execution_count": 5,
      "outputs": [
        {
          "output_type": "stream",
          "name": "stdout",
          "text": [
            "(1186028, 8) (296507, 8)\n"
          ]
        }
      ]
    },
    {
      "cell_type": "code",
      "metadata": {
        "colab": {
          "base_uri": "https://localhost:8080/",
          "height": 272
        },
        "id": "HvnaHRHqusYz",
        "outputId": "db5d59c1-4fc1-49a2-a023-c3014368199b"
      },
      "source": [
        "train.head()"
      ],
      "execution_count": 6,
      "outputs": [
        {
          "output_type": "execute_result",
          "data": {
            "text/html": [
              "<div>\n",
              "<style scoped>\n",
              "    .dataframe tbody tr th:only-of-type {\n",
              "        vertical-align: middle;\n",
              "    }\n",
              "\n",
              "    .dataframe tbody tr th {\n",
              "        vertical-align: top;\n",
              "    }\n",
              "\n",
              "    .dataframe thead th {\n",
              "        text-align: right;\n",
              "    }\n",
              "</style>\n",
              "<table border=\"1\" class=\"dataframe\">\n",
              "  <thead>\n",
              "    <tr style=\"text-align: right;\">\n",
              "      <th></th>\n",
              "      <th>train_id</th>\n",
              "      <th>name</th>\n",
              "      <th>item_condition_id</th>\n",
              "      <th>category_name</th>\n",
              "      <th>brand_name</th>\n",
              "      <th>price</th>\n",
              "      <th>shipping</th>\n",
              "      <th>item_description</th>\n",
              "    </tr>\n",
              "  </thead>\n",
              "  <tbody>\n",
              "    <tr>\n",
              "      <th>0</th>\n",
              "      <td>0</td>\n",
              "      <td>MLB Cincinnati Reds T Shirt Size XL</td>\n",
              "      <td>3</td>\n",
              "      <td>Men/Tops/T-shirts</td>\n",
              "      <td>NaN</td>\n",
              "      <td>10.0</td>\n",
              "      <td>1</td>\n",
              "      <td>No description yet</td>\n",
              "    </tr>\n",
              "    <tr>\n",
              "      <th>1</th>\n",
              "      <td>1</td>\n",
              "      <td>Razer BlackWidow Chroma Keyboard</td>\n",
              "      <td>3</td>\n",
              "      <td>Electronics/Computers &amp; Tablets/Components &amp; P...</td>\n",
              "      <td>Razer</td>\n",
              "      <td>52.0</td>\n",
              "      <td>0</td>\n",
              "      <td>This keyboard is in great condition and works ...</td>\n",
              "    </tr>\n",
              "    <tr>\n",
              "      <th>2</th>\n",
              "      <td>2</td>\n",
              "      <td>AVA-VIV Blouse</td>\n",
              "      <td>1</td>\n",
              "      <td>Women/Tops &amp; Blouses/Blouse</td>\n",
              "      <td>Target</td>\n",
              "      <td>10.0</td>\n",
              "      <td>1</td>\n",
              "      <td>Adorable top with a hint of lace and a key hol...</td>\n",
              "    </tr>\n",
              "    <tr>\n",
              "      <th>3</th>\n",
              "      <td>3</td>\n",
              "      <td>Leather Horse Statues</td>\n",
              "      <td>1</td>\n",
              "      <td>Home/Home Décor/Home Décor Accents</td>\n",
              "      <td>NaN</td>\n",
              "      <td>35.0</td>\n",
              "      <td>1</td>\n",
              "      <td>New with tags. Leather horses. Retail for [rm]...</td>\n",
              "    </tr>\n",
              "    <tr>\n",
              "      <th>4</th>\n",
              "      <td>4</td>\n",
              "      <td>24K GOLD plated rose</td>\n",
              "      <td>1</td>\n",
              "      <td>Women/Jewelry/Necklaces</td>\n",
              "      <td>NaN</td>\n",
              "      <td>44.0</td>\n",
              "      <td>0</td>\n",
              "      <td>Complete with certificate of authenticity</td>\n",
              "    </tr>\n",
              "  </tbody>\n",
              "</table>\n",
              "</div>"
            ],
            "text/plain": [
              "   train_id  ...                                   item_description\n",
              "0         0  ...                                 No description yet\n",
              "1         1  ...  This keyboard is in great condition and works ...\n",
              "2         2  ...  Adorable top with a hint of lace and a key hol...\n",
              "3         3  ...  New with tags. Leather horses. Retail for [rm]...\n",
              "4         4  ...          Complete with certificate of authenticity\n",
              "\n",
              "[5 rows x 8 columns]"
            ]
          },
          "metadata": {},
          "execution_count": 6
        }
      ]
    },
    {
      "cell_type": "code",
      "metadata": {
        "id": "MelBPMkNu05s"
      },
      "source": [
        "def missing_values_table(df):\n",
        "        # Total missing values\n",
        "        mis_val = df.isnull().sum()\n",
        "        \n",
        "        # Percentage of missing values\n",
        "        mis_val_percent = 100 * df.isnull().sum() / len(df)\n",
        "        \n",
        "        # Make a table with the results\n",
        "        mis_val_table = pd.concat([mis_val, mis_val_percent], axis=1)\n",
        "        \n",
        "        # Rename the columns\n",
        "        mis_val_table_ren_columns = mis_val_table.rename(\n",
        "        columns = {0 : 'Missing Values', 1 : '% of Total Values'})\n",
        "        \n",
        "        # Sort the table by percentage of missing descending\n",
        "        mis_val_table_ren_columns = mis_val_table_ren_columns[\n",
        "            mis_val_table_ren_columns.iloc[:,1] != 0].sort_values(\n",
        "        '% of Total Values', ascending=False).round(1)\n",
        "        \n",
        "        # Print some summary information\n",
        "        print (\"Your selected dataframe has \" + str(df.shape[1]) + \" columns.\\n\"      \n",
        "            \"There are \" + str(mis_val_table_ren_columns.shape[0]) +\n",
        "              \" columns that have missing values.\")\n",
        "        \n",
        "        # Return the dataframe with missing information\n",
        "        return mis_val_table_ren_columns"
      ],
      "execution_count": 8,
      "outputs": []
    },
    {
      "cell_type": "code",
      "metadata": {
        "colab": {
          "base_uri": "https://localhost:8080/",
          "height": 176
        },
        "id": "s7DWQS6DvRm8",
        "outputId": "8c6f66f7-f6b2-4a63-f165-2c45eeef58bb"
      },
      "source": [
        "missing_values_table(data)"
      ],
      "execution_count": 9,
      "outputs": [
        {
          "output_type": "stream",
          "name": "stdout",
          "text": [
            "Your selected dataframe has 8 columns.\n",
            "There are 3 columns that have missing values.\n"
          ]
        },
        {
          "output_type": "execute_result",
          "data": {
            "text/html": [
              "<div>\n",
              "<style scoped>\n",
              "    .dataframe tbody tr th:only-of-type {\n",
              "        vertical-align: middle;\n",
              "    }\n",
              "\n",
              "    .dataframe tbody tr th {\n",
              "        vertical-align: top;\n",
              "    }\n",
              "\n",
              "    .dataframe thead th {\n",
              "        text-align: right;\n",
              "    }\n",
              "</style>\n",
              "<table border=\"1\" class=\"dataframe\">\n",
              "  <thead>\n",
              "    <tr style=\"text-align: right;\">\n",
              "      <th></th>\n",
              "      <th>Missing Values</th>\n",
              "      <th>% of Total Values</th>\n",
              "    </tr>\n",
              "  </thead>\n",
              "  <tbody>\n",
              "    <tr>\n",
              "      <th>brand_name</th>\n",
              "      <td>632682</td>\n",
              "      <td>42.7</td>\n",
              "    </tr>\n",
              "    <tr>\n",
              "      <th>category_name</th>\n",
              "      <td>6327</td>\n",
              "      <td>0.4</td>\n",
              "    </tr>\n",
              "    <tr>\n",
              "      <th>item_description</th>\n",
              "      <td>4</td>\n",
              "      <td>0.0</td>\n",
              "    </tr>\n",
              "  </tbody>\n",
              "</table>\n",
              "</div>"
            ],
            "text/plain": [
              "                  Missing Values  % of Total Values\n",
              "brand_name                632682               42.7\n",
              "category_name               6327                0.4\n",
              "item_description               4                0.0"
            ]
          },
          "metadata": {},
          "execution_count": 9
        }
      ]
    },
    {
      "cell_type": "code",
      "metadata": {
        "colab": {
          "base_uri": "https://localhost:8080/"
        },
        "id": "Ny0EvKvyv9-x",
        "outputId": "56faa03b-3cf2-44c8-933d-3622caf56c90"
      },
      "source": [
        "train.info()"
      ],
      "execution_count": 10,
      "outputs": [
        {
          "output_type": "stream",
          "name": "stdout",
          "text": [
            "<class 'pandas.core.frame.DataFrame'>\n",
            "Int64Index: 1186028 entries, 0 to 1186027\n",
            "Data columns (total 8 columns):\n",
            " #   Column             Non-Null Count    Dtype  \n",
            "---  ------             --------------    -----  \n",
            " 0   train_id           1186028 non-null  int64  \n",
            " 1   name               1186028 non-null  object \n",
            " 2   item_condition_id  1186028 non-null  int64  \n",
            " 3   category_name      1180953 non-null  object \n",
            " 4   brand_name         679756 non-null   object \n",
            " 5   price              1186028 non-null  float64\n",
            " 6   shipping           1186028 non-null  int64  \n",
            " 7   item_description   1186026 non-null  object \n",
            "dtypes: float64(1), int64(3), object(4)\n",
            "memory usage: 81.4+ MB\n"
          ]
        }
      ]
    },
    {
      "cell_type": "code",
      "metadata": {
        "colab": {
          "base_uri": "https://localhost:8080/"
        },
        "id": "VnXwUZ2EwKEN",
        "outputId": "2068ae3c-046b-4c4f-b63e-0e22ed35be9d"
      },
      "source": [
        "train['price'].describe()"
      ],
      "execution_count": 11,
      "outputs": [
        {
          "output_type": "execute_result",
          "data": {
            "text/plain": [
              "count    1.186028e+06\n",
              "mean     2.672386e+01\n",
              "std      3.844205e+01\n",
              "min      0.000000e+00\n",
              "25%      1.000000e+01\n",
              "50%      1.700000e+01\n",
              "75%      2.900000e+01\n",
              "max      2.009000e+03\n",
              "Name: price, dtype: float64"
            ]
          },
          "metadata": {},
          "execution_count": 11
        }
      ]
    },
    {
      "cell_type": "code",
      "metadata": {
        "colab": {
          "base_uri": "https://localhost:8080/",
          "height": 364
        },
        "id": "KUJ4zfJGwjtz",
        "outputId": "b80cefa7-5cb6-4498-c3c9-78b908ca0416"
      },
      "source": [
        "train['price'].plot.hist(bins=50, figsize=(10,5), edgecolor='white',range=[0,500])\n",
        "plt.xlabel('Precio', fontsize=15)\n",
        "plt.ylabel('Frecuencia', fontsize=15)\n",
        "plt.tick_params(labelsize=15)\n",
        "plt.title('Distribución de precios - Set de entrenamiento', fontsize=17)\n",
        "plt.show()"
      ],
      "execution_count": 12,
      "outputs": [
        {
          "output_type": "display_data",
          "data": {
            "image/png": "[encoded data removed]",
            "text/plain": [
              "<Figure size 720x360 with 1 Axes>"
            ]
          },
          "metadata": {
            "needs_background": "light"
          }
        }
      ]
    },
    {
      "cell_type": "code",
      "metadata": {
        "colab": {
          "base_uri": "https://localhost:8080/"
        },
        "id": "FZpe2Nh1xTec",
        "outputId": "ac98ef7b-cc30-4019-d68f-70ecf6e5a236"
      },
      "source": [
        "train['shipping'].value_counts(normalize=True)*100"
      ],
      "execution_count": 13,
      "outputs": [
        {
          "output_type": "execute_result",
          "data": {
            "text/plain": [
              "0    55.267667\n",
              "1    44.732333\n",
              "Name: shipping, dtype: float64"
            ]
          },
          "metadata": {},
          "execution_count": 13
        }
      ]
    },
    {
      "cell_type": "code",
      "metadata": {
        "colab": {
          "base_uri": "https://localhost:8080/",
          "height": 367
        },
        "id": "ecdIdtDJxbrU",
        "outputId": "cfee1caa-ed67-4890-c165-986636754a44"
      },
      "source": [
        "shipping_fee_by_seller = train.loc[train.shipping==1, 'price']\n",
        "shipping_fee_by_buyer = train.loc[train.shipping==0, 'price']\n",
        "\n",
        "fig, ax = plt.subplots(figsize=(10,5))\n",
        "ax.hist(shipping_fee_by_seller, color='Orange', alpha=1.0, bins=50, range=[0,100], label='Precio cuando el vendedor paga el envío')\n",
        "ax.hist(shipping_fee_by_buyer, color='Green', alpha=1.0, bins=50, range=[0,100], label='Precio cuando el comprador paga los gastos de envío')\n",
        "ax.set(title='Comparación de histogramas', ylabel='% of Dataset in Bin')\n",
        "plt.xlabel('Precio', fontsize=17)\n",
        "plt.ylabel('Frecuencia', fontsize=17)\n",
        "plt.title('Distribución de precios por tipo de envío', fontsize=17)\n",
        "plt.tick_params(labelsize=15)\n",
        "plt.legend()\n",
        "plt.show()"
      ],
      "execution_count": 14,
      "outputs": [
        {
          "output_type": "display_data",
          "data": {
            "image/png": "[encoded data removed]",
            "text/plain": [
              "<Figure size 720x360 with 1 Axes>"
            ]
          },
          "metadata": {
            "needs_background": "light"
          }
        }
      ]
    },
    {
      "cell_type": "code",
      "metadata": {
        "colab": {
          "base_uri": "https://localhost:8080/"
        },
        "id": "_EyN665dyIRj",
        "outputId": "350e20f3-4e15-4b4a-9908-2534394ecc48"
      },
      "source": [
        "train['item_condition_id'].value_counts(normalize=True, sort=False)*100"
      ],
      "execution_count": 15,
      "outputs": [
        {
          "output_type": "execute_result",
          "data": {
            "text/plain": [
              "1    43.194511\n",
              "2    25.323264\n",
              "3    29.166934\n",
              "4     2.153153\n",
              "5     0.162138\n",
              "Name: item_condition_id, dtype: float64"
            ]
          },
          "metadata": {},
          "execution_count": 15
        }
      ]
    },
    {
      "cell_type": "code",
      "metadata": {
        "colab": {
          "base_uri": "https://localhost:8080/",
          "height": 480
        },
        "id": "bMjCNgzhyUa2",
        "outputId": "a5128823-2722-48b7-ec0b-80293b4191bc"
      },
      "source": [
        "price_100 = train[train['price']<100]\n",
        "\n",
        "fig, ax = plt.subplots(figsize=(20,7.5))\n",
        "sns.boxplot(x='item_condition_id', y='price', data=price_100, ax=ax)\n",
        "plt.xlabel('Condicion del Item', fontsize=15)\n",
        "plt.ylabel('Precio', fontsize=15)\n",
        "plt.xticks(fontsize=15)\n",
        "plt.yticks(fontsize=15)\n",
        "plt.show()"
      ],
      "execution_count": 16,
      "outputs": [
        {
          "output_type": "display_data",
          "data": {
            "image/png": "[encoded data removed]",
            "text/plain": [
              "<Figure size 1440x540 with 1 Axes>"
            ]
          },
          "metadata": {
            "needs_background": "light"
          }
        }
      ]
    },
    {
      "cell_type": "code",
      "metadata": {
        "colab": {
          "base_uri": "https://localhost:8080/"
        },
        "id": "_E_gV5Gi0ZAu",
        "outputId": "b62fa143-6551-4721-e91c-815fbe9535e2"
      },
      "source": [
        "(train['category_name'].value_counts(normalize=True)*100).head(15)"
      ],
      "execution_count": 17,
      "outputs": [
        {
          "output_type": "execute_result",
          "data": {
            "text/plain": [
              "Women/Athletic Apparel/Pants, Tights, Leggings                 4.060365\n",
              "Women/Tops & Blouses/T-Shirts                                  3.134841\n",
              "Beauty/Makeup/Face                                             2.321684\n",
              "Beauty/Makeup/Lips                                             2.025398\n",
              "Electronics/Video Games & Consoles/Games                       1.798039\n",
              "Beauty/Makeup/Eyes                                             1.720390\n",
              "Electronics/Cell Phones & Accessories/Cases, Covers & Skins    1.675511\n",
              "Women/Underwear/Bras                                           1.439346\n",
              "Women/Tops & Blouses/Tank, Cami                                1.381511\n",
              "Women/Tops & Blouses/Blouse                                    1.374314\n",
              "Women/Dresses/Above Knee, Mini                                 1.356955\n",
              "Women/Jewelry/Necklaces                                        1.348572\n",
              "Women/Athletic Apparel/Shorts                                  1.328419\n",
              "Beauty/Makeup/Makeup Palettes                                  1.293447\n",
              "Women/Shoes/Boots                                              1.274394\n",
              "Name: category_name, dtype: float64"
            ]
          },
          "metadata": {},
          "execution_count": 17
        }
      ]
    },
    {
      "cell_type": "code",
      "metadata": {
        "colab": {
          "base_uri": "https://localhost:8080/",
          "height": 340
        },
        "id": "F29J8GDK0g_M",
        "outputId": "a67e54c1-fd09-4257-dd3c-ffd4f6dae4f7"
      },
      "source": [
        "def split_cat(text):\n",
        "    try: return text.split(\"/\")\n",
        "    except: return (\"Category Unknown\", \"Category Unknown\", \"Category Unknown\")\n",
        "    \n",
        "train['main_cat'], train['subcat_1'], train['subcat_2'] = zip(*train['category_name'].apply(lambda x: split_cat(x)))\n",
        "test['main_cat'], test['subcat_1'], test['subcat_2'] = zip(*test['category_name'].apply(lambda x: split_cat(x)))\n",
        "train.head()"
      ],
      "execution_count": 18,
      "outputs": [
        {
          "output_type": "execute_result",
          "data": {
            "text/html": [
              "<div>\n",
              "<style scoped>\n",
              "    .dataframe tbody tr th:only-of-type {\n",
              "        vertical-align: middle;\n",
              "    }\n",
              "\n",
              "    .dataframe tbody tr th {\n",
              "        vertical-align: top;\n",
              "    }\n",
              "\n",
              "    .dataframe thead th {\n",
              "        text-align: right;\n",
              "    }\n",
              "</style>\n",
              "<table border=\"1\" class=\"dataframe\">\n",
              "  <thead>\n",
              "    <tr style=\"text-align: right;\">\n",
              "      <th></th>\n",
              "      <th>train_id</th>\n",
              "      <th>name</th>\n",
              "      <th>item_condition_id</th>\n",
              "      <th>category_name</th>\n",
              "      <th>brand_name</th>\n",
              "      <th>price</th>\n",
              "      <th>shipping</th>\n",
              "      <th>item_description</th>\n",
              "      <th>main_cat</th>\n",
              "      <th>subcat_1</th>\n",
              "      <th>subcat_2</th>\n",
              "    </tr>\n",
              "  </thead>\n",
              "  <tbody>\n",
              "    <tr>\n",
              "      <th>0</th>\n",
              "      <td>0</td>\n",
              "      <td>MLB Cincinnati Reds T Shirt Size XL</td>\n",
              "      <td>3</td>\n",
              "      <td>Men/Tops/T-shirts</td>\n",
              "      <td>NaN</td>\n",
              "      <td>10.0</td>\n",
              "      <td>1</td>\n",
              "      <td>No description yet</td>\n",
              "      <td>Men</td>\n",
              "      <td>Tops</td>\n",
              "      <td>T-shirts</td>\n",
              "    </tr>\n",
              "    <tr>\n",
              "      <th>1</th>\n",
              "      <td>1</td>\n",
              "      <td>Razer BlackWidow Chroma Keyboard</td>\n",
              "      <td>3</td>\n",
              "      <td>Electronics/Computers &amp; Tablets/Components &amp; P...</td>\n",
              "      <td>Razer</td>\n",
              "      <td>52.0</td>\n",
              "      <td>0</td>\n",
              "      <td>This keyboard is in great condition and works ...</td>\n",
              "      <td>Electronics</td>\n",
              "      <td>Computers &amp; Tablets</td>\n",
              "      <td>Components &amp; Parts</td>\n",
              "    </tr>\n",
              "    <tr>\n",
              "      <th>2</th>\n",
              "      <td>2</td>\n",
              "      <td>AVA-VIV Blouse</td>\n",
              "      <td>1</td>\n",
              "      <td>Women/Tops &amp; Blouses/Blouse</td>\n",
              "      <td>Target</td>\n",
              "      <td>10.0</td>\n",
              "      <td>1</td>\n",
              "      <td>Adorable top with a hint of lace and a key hol...</td>\n",
              "      <td>Women</td>\n",
              "      <td>Tops &amp; Blouses</td>\n",
              "      <td>Blouse</td>\n",
              "    </tr>\n",
              "    <tr>\n",
              "      <th>3</th>\n",
              "      <td>3</td>\n",
              "      <td>Leather Horse Statues</td>\n",
              "      <td>1</td>\n",
              "      <td>Home/Home Décor/Home Décor Accents</td>\n",
              "      <td>NaN</td>\n",
              "      <td>35.0</td>\n",
              "      <td>1</td>\n",
              "      <td>New with tags. Leather horses. Retail for [rm]...</td>\n",
              "      <td>Home</td>\n",
              "      <td>Home Décor</td>\n",
              "      <td>Home Décor Accents</td>\n",
              "    </tr>\n",
              "    <tr>\n",
              "      <th>4</th>\n",
              "      <td>4</td>\n",
              "      <td>24K GOLD plated rose</td>\n",
              "      <td>1</td>\n",
              "      <td>Women/Jewelry/Necklaces</td>\n",
              "      <td>NaN</td>\n",
              "      <td>44.0</td>\n",
              "      <td>0</td>\n",
              "      <td>Complete with certificate of authenticity</td>\n",
              "      <td>Women</td>\n",
              "      <td>Jewelry</td>\n",
              "      <td>Necklaces</td>\n",
              "    </tr>\n",
              "  </tbody>\n",
              "</table>\n",
              "</div>"
            ],
            "text/plain": [
              "   train_id  ...            subcat_2\n",
              "0         0  ...            T-shirts\n",
              "1         1  ...  Components & Parts\n",
              "2         2  ...              Blouse\n",
              "3         3  ...  Home Décor Accents\n",
              "4         4  ...           Necklaces\n",
              "\n",
              "[5 rows x 11 columns]"
            ]
          },
          "metadata": {},
          "execution_count": 18
        }
      ]
    },
    {
      "cell_type": "code",
      "metadata": {
        "id": "tRaMGFk10uz9"
      },
      "source": [
        "def lowercase_categorical_features_train(feature):\n",
        "    original_list = list(train[feature].values)\n",
        "    lower_case_list = []\n",
        "    for i in original_list:\n",
        "        j=i.lower()\n",
        "        lower_case_list.append(j)\n",
        "    return lower_case_list\n",
        "  \n",
        "def lowercase_categorical_features_test(feature):\n",
        "    original_list = list(test[feature].values)\n",
        "    lower_case_list = []\n",
        "    for i in original_list:\n",
        "        j=i.lower()\n",
        "        lower_case_list.append(j)\n",
        "    return lower_case_list"
      ],
      "execution_count": 19,
      "outputs": []
    },
    {
      "cell_type": "code",
      "metadata": {
        "id": "1oKrwP5q08GP"
      },
      "source": [
        "train['subcat_1'] = lowercase_categorical_features_train('subcat_1')\n",
        "train['subcat_2'] = lowercase_categorical_features_train('subcat_2')\n",
        "train['main_cat'] = lowercase_categorical_features_train('main_cat')\n",
        "\n",
        "test['subcat_1'] = lowercase_categorical_features_test('subcat_1')\n",
        "test['subcat_2'] = lowercase_categorical_features_test('subcat_2')\n",
        "test['main_cat'] = lowercase_categorical_features_test('main_cat')"
      ],
      "execution_count": 20,
      "outputs": []
    },
    {
      "cell_type": "code",
      "metadata": {
        "colab": {
          "base_uri": "https://localhost:8080/"
        },
        "id": "3tIZe6eT1AcZ",
        "outputId": "f92ea6d9-cb27-474a-8dec-793ef559e94e"
      },
      "source": [
        "print(\"There are %d unique main categories.\" % train['main_cat'].nunique())\n",
        "print(\"There are %d unique first sub-categories.\" % train['subcat_1'].nunique())\n",
        "print(\"There are %d unique second sub-categories.\" % train['subcat_2'].nunique())"
      ],
      "execution_count": 21,
      "outputs": [
        {
          "output_type": "stream",
          "name": "stdout",
          "text": [
            "There are 11 unique main categories.\n",
            "There are 114 unique first sub-categories.\n",
            "There are 863 unique second sub-categories.\n"
          ]
        }
      ]
    },
    {
      "cell_type": "code",
      "metadata": {
        "colab": {
          "base_uri": "https://localhost:8080/"
        },
        "id": "9wUpK2ae1Fwp",
        "outputId": "82c26d37-012a-40da-898f-9b7ba8880b3b"
      },
      "source": [
        "train['main_cat'].value_counts(normalize=True)*100"
      ],
      "execution_count": 22,
      "outputs": [
        {
          "output_type": "execute_result",
          "data": {
            "text/plain": [
              "women                     44.805350\n",
              "beauty                    14.035503\n",
              "kids                      11.561784\n",
              "electronics                8.265994\n",
              "men                        6.311740\n",
              "home                       4.595760\n",
              "vintage & collectibles     3.138374\n",
              "other                      3.065189\n",
              "handmade                   2.083340\n",
              "sports & outdoors          1.709066\n",
              "category unknown           0.427899\n",
              "Name: main_cat, dtype: float64"
            ]
          },
          "metadata": {},
          "execution_count": 22
        }
      ]
    },
    {
      "cell_type": "code",
      "metadata": {
        "colab": {
          "base_uri": "https://localhost:8080/",
          "height": 559
        },
        "id": "ODhBehDc1VQJ",
        "outputId": "96875310-9188-48ac-9eab-da764c0f7d21"
      },
      "source": [
        "fig, ax = plt.subplots(figsize=(20,7.5))\n",
        "sns.countplot(train['main_cat'], ax=ax, order=(train['main_cat'].value_counts()).index)\n",
        "plt.xlabel('Categoria Principal', fontsize=15)\n",
        "plt.ylabel('Frecuencia', fontsize=15)\n",
        "plt.xticks(rotation=30, fontsize=15)\n",
        "plt.show()"
      ],
      "execution_count": 23,
      "outputs": [
        {
          "output_type": "display_data",
          "data": {
            "image/png": "[encoded data removed]",
            "text/plain": [
              "<Figure size 1440x540 with 1 Axes>"
            ]
          },
          "metadata": {
            "needs_background": "light"
          }
        }
      ]
    }
  ]
}